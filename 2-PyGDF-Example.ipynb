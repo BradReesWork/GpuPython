{
 "cells": [
  {
   "cell_type": "markdown",
   "metadata": {},
   "source": [
    "# Simple PyGDF Example"
   ]
  },
  {
   "cell_type": "markdown",
   "metadata": {},
   "source": [
    "Redo the Simple Numba example to use PyGDF\n",
    "This Example uses a smaller dataset and combines a number of the functions into a single operation"
   ]
  },
  {
   "cell_type": "code",
   "execution_count": 1,
   "metadata": {},
   "outputs": [
    {
     "name": "stdout",
     "output_type": "stream",
     "text": [
      "Requirement already satisfied: ipython-autotime in /home/appuser/Miniconda3/envs/gpu_accel_ml/lib/python3.6/site-packages\n",
      "\u001b[33mYou are using pip version 9.0.1, however version 9.0.3 is available.\n",
      "You should consider upgrading via the 'pip install --upgrade pip' command.\u001b[0m\n"
     ]
    }
   ],
   "source": [
    "# This automatically time every cell's execution\n",
    "!pip install ipython-autotime\n",
    "%load_ext autotime"
   ]
  },
  {
   "cell_type": "code",
   "execution_count": 2,
   "metadata": {},
   "outputs": [
    {
     "name": "stdout",
     "output_type": "stream",
     "text": [
      "time: 345 ms\n"
     ]
    }
   ],
   "source": [
    "#Imports \n",
    "import numpy as np \n",
    "import pandas as pd\n",
    "import math\n",
    "\n",
    "import pygdf \n",
    "import numba as nb\n",
    "from numba import vectorize, jit"
   ]
  },
  {
   "cell_type": "code",
   "execution_count": 3,
   "metadata": {},
   "outputs": [
    {
     "data": {
      "text/plain": [
       "(134217728, 1)"
      ]
     },
     "execution_count": 3,
     "metadata": {},
     "output_type": "execute_result"
    },
    {
     "name": "stdout",
     "output_type": "stream",
     "text": [
      "time: 14 s\n"
     ]
    }
   ],
   "source": [
    "# Read in data and adjust\n",
    "pdf = pd.read_csv(\"./data/1B.csv\")\n",
    "pdf.shape"
   ]
  },
  {
   "cell_type": "code",
   "execution_count": 4,
   "metadata": {},
   "outputs": [
    {
     "data": {
      "text/plain": [
       "134217728"
      ]
     },
     "execution_count": 4,
     "metadata": {},
     "output_type": "execute_result"
    },
    {
     "name": "stdout",
     "output_type": "stream",
     "text": [
      "time: 4.65 ms\n"
     ]
    }
   ],
   "source": [
    "pdf.size"
   ]
  },
  {
   "cell_type": "code",
   "execution_count": 5,
   "metadata": {},
   "outputs": [
    {
     "name": "stdout",
     "output_type": "stream",
     "text": [
      "time: 678 ms\n"
     ]
    }
   ],
   "source": [
    "# Convert to a GPU DataFrame\n",
    "gdf = pygdf.DataFrame.from_pandas(pdf)"
   ]
  },
  {
   "cell_type": "markdown",
   "metadata": {},
   "source": [
    "### Scale the data so that it is in the range of -200 to +200\n",
    "This will also create a new column name"
   ]
  },
  {
   "cell_type": "code",
   "execution_count": 6,
   "metadata": {},
   "outputs": [
    {
     "name": "stdout",
     "output_type": "stream",
     "text": [
      "time: 2.07 ms\n"
     ]
    }
   ],
   "source": [
    "# Scale and Converet the data\n",
    "def ScaleData( Data, B, Scale) :\n",
    "    for i in range (Data.size) :\n",
    "        B[i] = Data[i] * Scale"
   ]
  },
  {
   "cell_type": "code",
   "execution_count": 7,
   "metadata": {},
   "outputs": [
    {
     "name": "stdout",
     "output_type": "stream",
     "text": [
      "time: 196 ms\n"
     ]
    }
   ],
   "source": [
    "gdf = gdf.apply_rows(ScaleData, incols=['Data'], outcols=dict(B=np.float32), kwargs=dict(Scale=200))"
   ]
  },
  {
   "cell_type": "code",
   "execution_count": 8,
   "metadata": {},
   "outputs": [
    {
     "data": {
      "text/plain": [
       "        Data        B\n",
       "0  -0.293219 -58.6438\n",
       "1   0.253161  50.6322\n",
       "2 -0.0570855 -11.4171\n",
       "3  0.0845902   16.918\n",
       "4   -1.43822 -287.644"
      ]
     },
     "execution_count": 8,
     "metadata": {},
     "output_type": "execute_result"
    },
    {
     "name": "stdout",
     "output_type": "stream",
     "text": [
      "time: 7.58 ms\n"
     ]
    }
   ],
   "source": [
    "gdf.head()"
   ]
  },
  {
   "cell_type": "code",
   "execution_count": 9,
   "metadata": {},
   "outputs": [
    {
     "name": "stdout",
     "output_type": "stream",
     "text": [
      "time: 1.66 ms\n"
     ]
    }
   ],
   "source": [
    "gdf.drop_column('Data')"
   ]
  },
  {
   "cell_type": "code",
   "execution_count": 10,
   "metadata": {},
   "outputs": [
    {
     "data": {
      "text/plain": [
       "         B\n",
       "0 -58.6438\n",
       "1  50.6322\n",
       "2 -11.4171\n",
       "3   16.918\n",
       "4 -287.644"
      ]
     },
     "execution_count": 10,
     "metadata": {},
     "output_type": "execute_result"
    },
    {
     "name": "stdout",
     "output_type": "stream",
     "text": [
      "time: 7.2 ms\n"
     ]
    }
   ],
   "source": [
    "gdf.head()"
   ]
  },
  {
   "cell_type": "markdown",
   "metadata": {},
   "source": [
    "### Compute the Mean and Standard Deviation"
   ]
  },
  {
   "cell_type": "code",
   "execution_count": 11,
   "metadata": {},
   "outputs": [
    {
     "name": "stdout",
     "output_type": "stream",
     "text": [
      "Std == 199.964919 \t Mean == 0.059651\n",
      "time: 5.58 s\n"
     ]
    }
   ],
   "source": [
    "mean = gdf['B'].mean()\n",
    "std = gdf['B'].std()\n",
    "print(\"Std == %f \\t Mean == %f\" % (std, mean))"
   ]
  },
  {
   "cell_type": "markdown",
   "metadata": {},
   "source": [
    "### Normalize"
   ]
  },
  {
   "cell_type": "code",
   "execution_count": 12,
   "metadata": {},
   "outputs": [
    {
     "name": "stdout",
     "output_type": "stream",
     "text": [
      "time: 2.17 ms\n"
     ]
    }
   ],
   "source": [
    "def NormalizeData( B, C, s, m) :\n",
    "    for i in range(B.size):\n",
    "        C[i] = math.floor((B[i] - m)/s)"
   ]
  },
  {
   "cell_type": "code",
   "execution_count": 13,
   "metadata": {},
   "outputs": [
    {
     "name": "stdout",
     "output_type": "stream",
     "text": [
      "time: 195 ms\n"
     ]
    }
   ],
   "source": [
    "gdf = gdf.apply_rows(NormalizeData, incols=['B'], outcols=dict(C=np.float32), kwargs=dict(s=std, m=mean ))"
   ]
  },
  {
   "cell_type": "code",
   "execution_count": 14,
   "metadata": {},
   "outputs": [
    {
     "data": {
      "text/plain": [
       "     C\n",
       "0 -1.0\n",
       "1  0.0\n",
       "2 -1.0\n",
       "3  0.0\n",
       "4 -2.0"
      ]
     },
     "execution_count": 14,
     "metadata": {},
     "output_type": "execute_result"
    },
    {
     "name": "stdout",
     "output_type": "stream",
     "text": [
      "time: 7.25 ms\n"
     ]
    }
   ],
   "source": [
    "gdf.drop_column('B')\n",
    "gdf.head()"
   ]
  },
  {
   "cell_type": "markdown",
   "metadata": {},
   "source": [
    "# Group and count"
   ]
  },
  {
   "cell_type": "code",
   "execution_count": 15,
   "metadata": {},
   "outputs": [
    {
     "name": "stdout",
     "output_type": "stream",
     "text": [
      "time: 1.18 s\n"
     ]
    }
   ],
   "source": [
    "from collections import OrderedDict\n",
    "\n",
    "aggs = OrderedDict()\n",
    "aggs['C'] = 'count'\n",
    "\n",
    "stats = gdf.groupby(['C']).agg(aggs)\n"
   ]
  },
  {
   "cell_type": "code",
   "execution_count": 16,
   "metadata": {},
   "outputs": [
    {
     "data": {
      "text/plain": [
       "            C\n",
       " 0       80.0\n",
       " 1     3580.0\n",
       " 2   176120.0\n",
       " 3  2880680.0\n",
       " 4 18230823.0\n",
       " 5 45826641.0\n",
       " 6 45797164.0\n",
       " 7 18259060.0\n",
       " 8  2865860.0\n",
       " 9   173760.0\n",
       "10     3940.0\n",
       "11       20.0"
      ]
     },
     "execution_count": 16,
     "metadata": {},
     "output_type": "execute_result"
    },
    {
     "name": "stdout",
     "output_type": "stream",
     "text": [
      "time: 3.66 ms\n"
     ]
    }
   ],
   "source": [
    "stats"
   ]
  },
  {
   "cell_type": "code",
   "execution_count": null,
   "metadata": {},
   "outputs": [],
   "source": []
  }
 ],
 "metadata": {
  "kernelspec": {
   "display_name": "Python 3",
   "language": "python",
   "name": "python3"
  },
  "language_info": {
   "codemirror_mode": {
    "name": "ipython",
    "version": 3
   },
   "file_extension": ".py",
   "mimetype": "text/x-python",
   "name": "python",
   "nbconvert_exporter": "python",
   "pygments_lexer": "ipython3",
   "version": "3.6.4"
  }
 },
 "nbformat": 4,
 "nbformat_minor": 2
}
