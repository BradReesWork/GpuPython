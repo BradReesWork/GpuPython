{
 "cells": [
  {
   "cell_type": "markdown",
   "metadata": {},
   "source": [
    "# Load Zillow House Data into a GPU DataFrame"
   ]
  },
  {
   "cell_type": "markdown",
   "metadata": {},
   "source": [
    " Compute some statistics on home price for each Zip"
   ]
  },
  {
   "cell_type": "code",
   "execution_count": null,
   "metadata": {},
   "outputs": [],
   "source": [
    "# This automatically time every cell's execution\n",
    "!pip install ipython-autotime\n",
    "%load_ext autotime"
   ]
  },
  {
   "cell_type": "code",
   "execution_count": null,
   "metadata": {},
   "outputs": [],
   "source": [
    "#Imports \n",
    "import numpy as np \n",
    "import pandas as pd\n",
    "import math\n",
    "from timeit import default_timer as timer\n",
    "\n",
    "#GPU\n",
    "import pygdf \n",
    "\n",
    "#\n",
    "from collections import OrderedDict\n"
   ]
  },
  {
   "cell_type": "code",
   "execution_count": null,
   "metadata": {},
   "outputs": [],
   "source": [
    "#Load the Zip Code data\n",
    "raw_data = pd.read_csv(\"./data/Zip_time_series.csv\", parse_dates=True)"
   ]
  },
  {
   "cell_type": "code",
   "execution_count": null,
   "metadata": {},
   "outputs": [],
   "source": [
    "# We want the Date as a 'datetime' and not as a string\n",
    "raw_data.Date=pd.to_datetime(raw_data.Date)"
   ]
  },
  {
   "cell_type": "code",
   "execution_count": null,
   "metadata": {},
   "outputs": [],
   "source": [
    "# Add two new fields by breaking the date into Year and Month\n",
    "# only last day on month is used, so it can be ignored\n",
    "raw_data['Year']  = raw_data.Date.dt.year\n",
    "raw_data['Month'] = raw_data.Date.dt.month"
   ]
  },
  {
   "cell_type": "code",
   "execution_count": null,
   "metadata": {},
   "outputs": [],
   "source": [
    "# How many Records and Fields?\n",
    "raw_data.shape"
   ]
  },
  {
   "cell_type": "code",
   "execution_count": null,
   "metadata": {},
   "outputs": [],
   "source": [
    "# Get only the fields we care about for this task: Year, Month, Median list prices\n",
    "sale_data = raw_data[['Year', 'Month', 'RegionName', 'MedianListingPrice_1Bedroom', \n",
    "                         'MedianListingPrice_2Bedroom', 'MedianListingPrice_3Bedroom', \n",
    "                         'MedianListingPrice_4Bedroom', 'MedianListingPrice_5BedroomOrMore', \n",
    "                         'MedianListingPrice_AllHomes', 'MedianListingPrice_CondoCoop',\n",
    "                         'MedianListingPrice_SingleFamilyResidence' ]]\n",
    "\n",
    "sale_data.shape"
   ]
  },
  {
   "cell_type": "code",
   "execution_count": null,
   "metadata": {},
   "outputs": [],
   "source": [
    "# convert all NaN to 0\n",
    "sale_data[np.isnan(sale_data)] = 0"
   ]
  },
  {
   "cell_type": "code",
   "execution_count": null,
   "metadata": {},
   "outputs": [],
   "source": [
    "gdf = pygdf.DataFrame.from_pandas(sale_data)"
   ]
  },
  {
   "cell_type": "markdown",
   "metadata": {},
   "source": [
    "# Find the Zip Codes with the highest average value"
   ]
  },
  {
   "cell_type": "code",
   "execution_count": null,
   "metadata": {},
   "outputs": [],
   "source": [
    "# Aggregating methods to apply to each column\n",
    "aggs = OrderedDict()\n",
    "aggs['MedianListingPrice_AllHomes'] = 'max'\n",
    "\n",
    "\n",
    "topZip = gdf.groupby(by='RegionName').agg(aggs).sort_values(by='MedianListingPrice_AllHomes', ascending=False)"
   ]
  },
  {
   "cell_type": "code",
   "execution_count": null,
   "metadata": {},
   "outputs": [],
   "source": [
    "topZip.head()"
   ]
  },
  {
   "cell_type": "code",
   "execution_count": null,
   "metadata": {},
   "outputs": [],
   "source": []
  }
 ],
 "metadata": {
  "kernelspec": {
   "display_name": "Python 3",
   "language": "python",
   "name": "python3"
  },
  "language_info": {
   "codemirror_mode": {
    "name": "ipython",
    "version": 3
   },
   "file_extension": ".py",
   "mimetype": "text/x-python",
   "name": "python",
   "nbconvert_exporter": "python",
   "pygments_lexer": "ipython3",
   "version": "3.6.4"
  }
 },
 "nbformat": 4,
 "nbformat_minor": 2
}
